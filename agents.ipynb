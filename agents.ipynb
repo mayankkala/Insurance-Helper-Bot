{
 "cells": [
  {
   "cell_type": "code",
   "execution_count": 1,
   "metadata": {},
   "outputs": [],
   "source": [
    "from langchain.tools import WikipediaQueryRun\n",
    "from langchain_community.utilities import WikipediaAPIWrapper\n",
    "api_wrapper=WikipediaAPIWrapper(top_k_results=1,docs_content_character_max=200)\n",
    "wikipedia = WikipediaQueryRun(api_wrapper=api_wrapper)"
   ]
  },
  {
   "cell_type": "code",
   "execution_count": 6,
   "metadata": {},
   "outputs": [],
   "source": [
    "from langchain_community.document_loaders import WebBaseLoader\n",
    "from langchain_community.vectorstores import FAISS\n",
    "from langchain_openai import OpenAIEmbeddings\n",
    "from langchain_text_splitters import CharacterTextSplitter\n",
    "\n",
    "loader = WebBaseLoader(\"https://www.icicilombard.com/health-insurance/\")\n",
    "documents = loader.load()\n",
    "text_splitter = CharacterTextSplitter(chunk_size=1000, chunk_overlap=10)\n",
    "docs = text_splitter.split_documents(documents)\n",
    "embeddings = OpenAIEmbeddings()\n",
    "db = FAISS.from_documents(docs, embeddings)\n",
    "retriever=db.as_retriever()\n",
    "\n",
    "from langchain.tools.retriever import create_retriever_tool\n",
    "insu_retrieved= create_retriever_tool(retriever, \"Insurance_details\", \"You are an expert in telling about insurances and have fundamental understanding\")\n"
   ]
  },
  {
   "cell_type": "code",
   "execution_count": 3,
   "metadata": {},
   "outputs": [],
   "source": [
    "from langchain.tools import ArxivQueryRun\n",
    "from langchain_community.utilities import ArxivAPIWrapper\n",
    "api_wrapper=ArxivAPIWrapper(top_k_results=1,docs_content_character_max=200)\n",
    "arvix_tool = ArxivQueryRun(api_wrapper=api_wrapper)"
   ]
  },
  {
   "cell_type": "code",
   "execution_count": 7,
   "metadata": {},
   "outputs": [],
   "source": [
    "tools=[wikipedia, insu_retrieved, arvix_tool]"
   ]
  },
  {
   "cell_type": "code",
   "execution_count": 15,
   "metadata": {},
   "outputs": [],
   "source": [
    "import getpass\n",
    "import os\n",
    "\n",
    "from dotenv import load_dotenv\n",
    "load_dotenv()\n",
    "\n",
    "os.environ[\"OPENAI_API_KEY\"] = getpass.getpass()\n",
    "from langchain_openai import ChatOpenAI\n",
    "\n",
    "llm = ChatOpenAI(model=\"gpt-3.5-turbo-0125\", temperature=0.2)"
   ]
  },
  {
   "cell_type": "code",
   "execution_count": 16,
   "metadata": {},
   "outputs": [
    {
     "data": {
      "text/plain": [
       "[SystemMessagePromptTemplate(prompt=PromptTemplate(input_variables=[], template='You are a helpful assistant')),\n",
       " MessagesPlaceholder(variable_name='chat_history', optional=True),\n",
       " HumanMessagePromptTemplate(prompt=PromptTemplate(input_variables=['input'], template='{input}')),\n",
       " MessagesPlaceholder(variable_name='agent_scratchpad')]"
      ]
     },
     "execution_count": 16,
     "metadata": {},
     "output_type": "execute_result"
    }
   ],
   "source": [
    "from langchain import hub\n",
    "\n",
    "# Get the prompt to use - you can modify this!\n",
    "prompt = hub.pull(\"hwchase17/openai-functions-agent\")\n",
    "prompt.messages"
   ]
  },
  {
   "cell_type": "code",
   "execution_count": 17,
   "metadata": {},
   "outputs": [],
   "source": [
    "\n",
    "from langchain.agents import create_tool_calling_agent\n",
    "\n",
    "agent = create_tool_calling_agent(llm, tools, prompt)"
   ]
  },
  {
   "cell_type": "code",
   "execution_count": 20,
   "metadata": {},
   "outputs": [
    {
     "name": "stdout",
     "output_type": "stream",
     "text": [
      "\n",
      "\n",
      "\u001b[1m> Entering new AgentExecutor chain...\u001b[0m\n",
      "\u001b[32;1m\u001b[1;3m\n",
      "Invoking: `arxiv` with `{'query': 'The demand for microinsurance: A literature review'}`\n",
      "\n",
      "\n",
      "\u001b[0m\u001b[38;5;200m\u001b[1;3mPublished: 2021-06-24\n",
      "Title: Applications of Mechanism Design in Market-Based Demand-Side Management\n",
      "Authors: Khaled Abedrabboh, Luluwah Al-Fagih\n",
      "Summary: The intermittent nature of renewable energy resources creates extra\n",
      "challenges in the operation and control of the electricity grid. Demand\n",
      "flexibility markets can help in dealing with these challenges by introducing\n",
      "incentives for customers to modify their demand. Market-based demand-side\n",
      "management (DSM) have garnered serious attention lately due to its promising\n",
      "capability of maintaining the balance between supply and demand, while also\n",
      "keeping customer satisfaction at its highest levels. Many researchers have\n",
      "proposed using concepts from mechanism design theory in their approaches to\n",
      "market-based DSM. In this work, we provide a review of the advances in\n",
      "market-based DSM using mechanism design. We provide a categorisation of the\n",
      "reviewed literature and evaluate the strengths and weaknesses of each design\n",
      "criteria. We also study the utility function formulations used in the reviewed\n",
      "literature and provide a critique of the proposed indirect mechanisms. We show\n",
      "that despite the extensiveness of the literature on this subject, there remains\n",
      "concerns and challenges that should be addressed for the realistic\n",
      "implementation of such DSM approaches. We draw conclusions from our review and\n",
      "discuss possible future research directions.\u001b[0m\u001b[32;1m\u001b[1;3mThe research paper titled \"The demand for microinsurance: A literature review\" was published in 2012. Unfortunately, I couldn't find the specific paper you are looking for. However, I found a different research paper published in 2021 titled \"Applications of Mechanism Design in Market-Based Demand-Side Management\" by Khaled Abedrabboh and Luluwah Al-Fagih. This paper discusses the challenges in the operation and control of the electricity grid due to the intermittent nature of renewable energy resources. It explores how market-based demand-side management (DSM) can help in maintaining the balance between supply and demand by incentivizing customers to modify their demand.\n",
      "\n",
      "If you need more information or assistance with a different research paper, please let me know.\u001b[0m\n",
      "\n",
      "\u001b[1m> Finished chain.\u001b[0m\n"
     ]
    },
    {
     "data": {
      "text/plain": [
       "{'input': 'can you explain The demand for microinsurance: A literature review from research paper publioshed in 2012?',\n",
       " 'output': 'The research paper titled \"The demand for microinsurance: A literature review\" was published in 2012. Unfortunately, I couldn\\'t find the specific paper you are looking for. However, I found a different research paper published in 2021 titled \"Applications of Mechanism Design in Market-Based Demand-Side Management\" by Khaled Abedrabboh and Luluwah Al-Fagih. This paper discusses the challenges in the operation and control of the electricity grid due to the intermittent nature of renewable energy resources. It explores how market-based demand-side management (DSM) can help in maintaining the balance between supply and demand by incentivizing customers to modify their demand.\\n\\nIf you need more information or assistance with a different research paper, please let me know.'}"
      ]
     },
     "execution_count": 20,
     "metadata": {},
     "output_type": "execute_result"
    }
   ],
   "source": [
    "from langchain.agents import AgentExecutor\n",
    "\n",
    "agent_executor = AgentExecutor(agent=agent, tools=tools, verbose=True)\n",
    "agent_executor.invoke({\"input\":\"can you explain The demand for microinsurance: A literature review from research paper publioshed in 2012?\"})"
   ]
  },
  {
   "cell_type": "code",
   "execution_count": null,
   "metadata": {},
   "outputs": [],
   "source": []
  }
 ],
 "metadata": {
  "kernelspec": {
   "display_name": "Python 3",
   "language": "python",
   "name": "python3"
  },
  "language_info": {
   "codemirror_mode": {
    "name": "ipython",
    "version": 3
   },
   "file_extension": ".py",
   "mimetype": "text/x-python",
   "name": "python",
   "nbconvert_exporter": "python",
   "pygments_lexer": "ipython3",
   "version": "3.10.14"
  }
 },
 "nbformat": 4,
 "nbformat_minor": 2
}
